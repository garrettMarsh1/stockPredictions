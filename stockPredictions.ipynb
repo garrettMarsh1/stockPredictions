{
 "cells": [
  {
   "cell_type": "code",
   "execution_count": 175,
   "metadata": {},
   "outputs": [
    {
     "name": "stdout",
     "output_type": "stream",
     "text": [
      "- ^CASE30: No data found for this date range, symbol may be delisted\n"
     ]
    }
   ],
   "source": [
    "import yfinance as yf\n",
    "import pandas as pd\n",
    "\n",
    "\n",
    "#loop through all indices\n",
    "df_list = pd.read_html('https://finance.yahoo.com/world-indices/')\n",
    "majorStockIdx = df_list[0]\n",
    "majorStockIdx.head()\n",
    "\n",
    "stock_list = []\n",
    "for s in majorStockIdx.Symbol:\n",
    "    #get the data for this ticker\n",
    "    tickerData = yf.Ticker(s)\n",
    "    #get the historical prices for this ticker\n",
    "    tickerDf1 = tickerData.history(period='1d', start='2010-1-1', end='2020-1-25')\n",
    "\n",
    "    tickerDf1['ticker'] = s\n",
    "    stock_list.append(tickerDf1)\n",
    "msi = pd.concat(stock_list, axis = 0)\n",
    "\n",
    "region_idx= { 'US & Canada' : ['^GSPC', '^DJI', '^IXIC', '^RUT','^GSPTSE'],\n",
    "  'Latin America' : ['^BVSP', '^MXX', '^IPSA'],\n",
    "  'East Asia' : ['^N225', '^HSI', '000001.SS', '399001.SZ', '^TWII', '^KS11'],\n",
    "  'ASEAN & Oceania' : ['^STI', '^JKSE', '^KLSE','^AXJO',  '^NZ50'],\n",
    "  'South & West Asia' : ['^BSESN', '^TA125.TA'],\n",
    "  'Europe' : ['^FTSE', '^GDAXI', '^FCHI', '^STOXX50E','^N100', '^BFX']\n",
    "}\n",
    "def getRegion(ticker):\n",
    "    for k in region_idx.keys():\n",
    "        if ticker in region_idx[k]:\n",
    "            return k\n",
    "msi['region']= msi.ticker.apply(lambda x: getRegion(x))\n",
    "\n",
    "\n",
    "\n",
    "\n",
    "\n"
   ]
  },
  {
   "cell_type": "code",
   "execution_count": 176,
   "metadata": {},
   "outputs": [
    {
     "data": {
      "text/html": [
       "<div>\n",
       "<style scoped>\n",
       "    .dataframe tbody tr th:only-of-type {\n",
       "        vertical-align: middle;\n",
       "    }\n",
       "\n",
       "    .dataframe tbody tr th {\n",
       "        vertical-align: top;\n",
       "    }\n",
       "\n",
       "    .dataframe thead th {\n",
       "        text-align: right;\n",
       "    }\n",
       "</style>\n",
       "<table border=\"1\" class=\"dataframe\">\n",
       "  <thead>\n",
       "    <tr style=\"text-align: right;\">\n",
       "      <th></th>\n",
       "      <th>Open</th>\n",
       "      <th>High</th>\n",
       "      <th>Low</th>\n",
       "      <th>Close</th>\n",
       "      <th>Volume</th>\n",
       "      <th>Dividends</th>\n",
       "      <th>Stock Splits</th>\n",
       "      <th>ticker</th>\n",
       "    </tr>\n",
       "    <tr>\n",
       "      <th>Date</th>\n",
       "      <th></th>\n",
       "      <th></th>\n",
       "      <th></th>\n",
       "      <th></th>\n",
       "      <th></th>\n",
       "      <th></th>\n",
       "      <th></th>\n",
       "      <th></th>\n",
       "    </tr>\n",
       "  </thead>\n",
       "  <tbody>\n",
       "    <tr>\n",
       "      <th>2017-09-26 00:00:00+02:00</th>\n",
       "      <td>4008.949951</td>\n",
       "      <td>4012.500000</td>\n",
       "      <td>3911.449951</td>\n",
       "      <td>3916.979980</td>\n",
       "      <td>0</td>\n",
       "      <td>0</td>\n",
       "      <td>0</td>\n",
       "      <td>^JN0U.JO</td>\n",
       "    </tr>\n",
       "    <tr>\n",
       "      <th>2017-09-27 00:00:00+02:00</th>\n",
       "      <td>3915.199951</td>\n",
       "      <td>3926.850098</td>\n",
       "      <td>3877.590088</td>\n",
       "      <td>3885.090088</td>\n",
       "      <td>0</td>\n",
       "      <td>0</td>\n",
       "      <td>0</td>\n",
       "      <td>^JN0U.JO</td>\n",
       "    </tr>\n",
       "    <tr>\n",
       "      <th>2017-09-28 00:00:00+02:00</th>\n",
       "      <td>3856.570068</td>\n",
       "      <td>3896.889893</td>\n",
       "      <td>3839.110107</td>\n",
       "      <td>3879.229980</td>\n",
       "      <td>0</td>\n",
       "      <td>0</td>\n",
       "      <td>0</td>\n",
       "      <td>^JN0U.JO</td>\n",
       "    </tr>\n",
       "    <tr>\n",
       "      <th>2017-09-29 00:00:00+02:00</th>\n",
       "      <td>3893.760010</td>\n",
       "      <td>3952.479980</td>\n",
       "      <td>3884.939941</td>\n",
       "      <td>3930.870117</td>\n",
       "      <td>0</td>\n",
       "      <td>0</td>\n",
       "      <td>0</td>\n",
       "      <td>^JN0U.JO</td>\n",
       "    </tr>\n",
       "    <tr>\n",
       "      <th>2017-10-02 00:00:00+02:00</th>\n",
       "      <td>3914.199951</td>\n",
       "      <td>3938.600098</td>\n",
       "      <td>3907.280029</td>\n",
       "      <td>3907.280029</td>\n",
       "      <td>0</td>\n",
       "      <td>0</td>\n",
       "      <td>0</td>\n",
       "      <td>^JN0U.JO</td>\n",
       "    </tr>\n",
       "    <tr>\n",
       "      <th>...</th>\n",
       "      <td>...</td>\n",
       "      <td>...</td>\n",
       "      <td>...</td>\n",
       "      <td>...</td>\n",
       "      <td>...</td>\n",
       "      <td>...</td>\n",
       "      <td>...</td>\n",
       "      <td>...</td>\n",
       "    </tr>\n",
       "    <tr>\n",
       "      <th>2020-01-20 00:00:00+02:00</th>\n",
       "      <td>3923.830078</td>\n",
       "      <td>3933.620117</td>\n",
       "      <td>3889.239990</td>\n",
       "      <td>3899.600098</td>\n",
       "      <td>0</td>\n",
       "      <td>0</td>\n",
       "      <td>0</td>\n",
       "      <td>^JN0U.JO</td>\n",
       "    </tr>\n",
       "    <tr>\n",
       "      <th>2020-01-21 00:00:00+02:00</th>\n",
       "      <td>3887.169922</td>\n",
       "      <td>3889.679932</td>\n",
       "      <td>3809.669922</td>\n",
       "      <td>3848.719971</td>\n",
       "      <td>0</td>\n",
       "      <td>0</td>\n",
       "      <td>0</td>\n",
       "      <td>^JN0U.JO</td>\n",
       "    </tr>\n",
       "    <tr>\n",
       "      <th>2020-01-22 00:00:00+02:00</th>\n",
       "      <td>3860.850098</td>\n",
       "      <td>3888.550049</td>\n",
       "      <td>3848.429932</td>\n",
       "      <td>3882.530029</td>\n",
       "      <td>0</td>\n",
       "      <td>0</td>\n",
       "      <td>0</td>\n",
       "      <td>^JN0U.JO</td>\n",
       "    </tr>\n",
       "    <tr>\n",
       "      <th>2020-01-23 00:00:00+02:00</th>\n",
       "      <td>3881.260010</td>\n",
       "      <td>3881.260010</td>\n",
       "      <td>3789.699951</td>\n",
       "      <td>3793.979980</td>\n",
       "      <td>0</td>\n",
       "      <td>0</td>\n",
       "      <td>0</td>\n",
       "      <td>^JN0U.JO</td>\n",
       "    </tr>\n",
       "    <tr>\n",
       "      <th>2020-01-24 00:00:00+02:00</th>\n",
       "      <td>3803.250000</td>\n",
       "      <td>3853.010010</td>\n",
       "      <td>3803.250000</td>\n",
       "      <td>3816.750000</td>\n",
       "      <td>0</td>\n",
       "      <td>0</td>\n",
       "      <td>0</td>\n",
       "      <td>^JN0U.JO</td>\n",
       "    </tr>\n",
       "  </tbody>\n",
       "</table>\n",
       "<p>583 rows × 8 columns</p>\n",
       "</div>"
      ],
      "text/plain": [
       "                                  Open         High          Low        Close  \\\n",
       "Date                                                                            \n",
       "2017-09-26 00:00:00+02:00  4008.949951  4012.500000  3911.449951  3916.979980   \n",
       "2017-09-27 00:00:00+02:00  3915.199951  3926.850098  3877.590088  3885.090088   \n",
       "2017-09-28 00:00:00+02:00  3856.570068  3896.889893  3839.110107  3879.229980   \n",
       "2017-09-29 00:00:00+02:00  3893.760010  3952.479980  3884.939941  3930.870117   \n",
       "2017-10-02 00:00:00+02:00  3914.199951  3938.600098  3907.280029  3907.280029   \n",
       "...                                ...          ...          ...          ...   \n",
       "2020-01-20 00:00:00+02:00  3923.830078  3933.620117  3889.239990  3899.600098   \n",
       "2020-01-21 00:00:00+02:00  3887.169922  3889.679932  3809.669922  3848.719971   \n",
       "2020-01-22 00:00:00+02:00  3860.850098  3888.550049  3848.429932  3882.530029   \n",
       "2020-01-23 00:00:00+02:00  3881.260010  3881.260010  3789.699951  3793.979980   \n",
       "2020-01-24 00:00:00+02:00  3803.250000  3853.010010  3803.250000  3816.750000   \n",
       "\n",
       "                           Volume  Dividends  Stock Splits    ticker  \n",
       "Date                                                                  \n",
       "2017-09-26 00:00:00+02:00       0          0             0  ^JN0U.JO  \n",
       "2017-09-27 00:00:00+02:00       0          0             0  ^JN0U.JO  \n",
       "2017-09-28 00:00:00+02:00       0          0             0  ^JN0U.JO  \n",
       "2017-09-29 00:00:00+02:00       0          0             0  ^JN0U.JO  \n",
       "2017-10-02 00:00:00+02:00       0          0             0  ^JN0U.JO  \n",
       "...                           ...        ...           ...       ...  \n",
       "2020-01-20 00:00:00+02:00       0          0             0  ^JN0U.JO  \n",
       "2020-01-21 00:00:00+02:00       0          0             0  ^JN0U.JO  \n",
       "2020-01-22 00:00:00+02:00       0          0             0  ^JN0U.JO  \n",
       "2020-01-23 00:00:00+02:00       0          0             0  ^JN0U.JO  \n",
       "2020-01-24 00:00:00+02:00       0          0             0  ^JN0U.JO  \n",
       "\n",
       "[583 rows x 8 columns]"
      ]
     },
     "execution_count": 176,
     "metadata": {},
     "output_type": "execute_result"
    }
   ],
   "source": [
    "\n",
    "tickerDf1"
   ]
  },
  {
   "cell_type": "code",
   "execution_count": 177,
   "metadata": {},
   "outputs": [],
   "source": [
    "del tickerDf1[\"Dividends\"]\n",
    "del tickerDf1[\"Stock Splits\"]"
   ]
  },
  {
   "cell_type": "code",
   "execution_count": 178,
   "metadata": {},
   "outputs": [],
   "source": [
    "tickerDf1[\"Tomorrow\"] = tickerDf1[\"Close\"].shift(-1)"
   ]
  },
  {
   "cell_type": "code",
   "execution_count": 179,
   "metadata": {},
   "outputs": [
    {
     "data": {
      "text/html": [
       "<div>\n",
       "<style scoped>\n",
       "    .dataframe tbody tr th:only-of-type {\n",
       "        vertical-align: middle;\n",
       "    }\n",
       "\n",
       "    .dataframe tbody tr th {\n",
       "        vertical-align: top;\n",
       "    }\n",
       "\n",
       "    .dataframe thead th {\n",
       "        text-align: right;\n",
       "    }\n",
       "</style>\n",
       "<table border=\"1\" class=\"dataframe\">\n",
       "  <thead>\n",
       "    <tr style=\"text-align: right;\">\n",
       "      <th></th>\n",
       "      <th>Open</th>\n",
       "      <th>High</th>\n",
       "      <th>Low</th>\n",
       "      <th>Close</th>\n",
       "      <th>Volume</th>\n",
       "      <th>ticker</th>\n",
       "      <th>Tomorrow</th>\n",
       "      <th>Target</th>\n",
       "    </tr>\n",
       "    <tr>\n",
       "      <th>Date</th>\n",
       "      <th></th>\n",
       "      <th></th>\n",
       "      <th></th>\n",
       "      <th></th>\n",
       "      <th></th>\n",
       "      <th></th>\n",
       "      <th></th>\n",
       "      <th></th>\n",
       "    </tr>\n",
       "  </thead>\n",
       "  <tbody>\n",
       "    <tr>\n",
       "      <th>2017-09-26 00:00:00+02:00</th>\n",
       "      <td>4008.949951</td>\n",
       "      <td>4012.500000</td>\n",
       "      <td>3911.449951</td>\n",
       "      <td>3916.979980</td>\n",
       "      <td>0</td>\n",
       "      <td>^JN0U.JO</td>\n",
       "      <td>3885.090088</td>\n",
       "      <td>0</td>\n",
       "    </tr>\n",
       "    <tr>\n",
       "      <th>2017-09-27 00:00:00+02:00</th>\n",
       "      <td>3915.199951</td>\n",
       "      <td>3926.850098</td>\n",
       "      <td>3877.590088</td>\n",
       "      <td>3885.090088</td>\n",
       "      <td>0</td>\n",
       "      <td>^JN0U.JO</td>\n",
       "      <td>3879.229980</td>\n",
       "      <td>0</td>\n",
       "    </tr>\n",
       "    <tr>\n",
       "      <th>2017-09-28 00:00:00+02:00</th>\n",
       "      <td>3856.570068</td>\n",
       "      <td>3896.889893</td>\n",
       "      <td>3839.110107</td>\n",
       "      <td>3879.229980</td>\n",
       "      <td>0</td>\n",
       "      <td>^JN0U.JO</td>\n",
       "      <td>3930.870117</td>\n",
       "      <td>1</td>\n",
       "    </tr>\n",
       "    <tr>\n",
       "      <th>2017-09-29 00:00:00+02:00</th>\n",
       "      <td>3893.760010</td>\n",
       "      <td>3952.479980</td>\n",
       "      <td>3884.939941</td>\n",
       "      <td>3930.870117</td>\n",
       "      <td>0</td>\n",
       "      <td>^JN0U.JO</td>\n",
       "      <td>3907.280029</td>\n",
       "      <td>0</td>\n",
       "    </tr>\n",
       "    <tr>\n",
       "      <th>2017-10-02 00:00:00+02:00</th>\n",
       "      <td>3914.199951</td>\n",
       "      <td>3938.600098</td>\n",
       "      <td>3907.280029</td>\n",
       "      <td>3907.280029</td>\n",
       "      <td>0</td>\n",
       "      <td>^JN0U.JO</td>\n",
       "      <td>3939.860107</td>\n",
       "      <td>1</td>\n",
       "    </tr>\n",
       "    <tr>\n",
       "      <th>...</th>\n",
       "      <td>...</td>\n",
       "      <td>...</td>\n",
       "      <td>...</td>\n",
       "      <td>...</td>\n",
       "      <td>...</td>\n",
       "      <td>...</td>\n",
       "      <td>...</td>\n",
       "      <td>...</td>\n",
       "    </tr>\n",
       "    <tr>\n",
       "      <th>2020-01-20 00:00:00+02:00</th>\n",
       "      <td>3923.830078</td>\n",
       "      <td>3933.620117</td>\n",
       "      <td>3889.239990</td>\n",
       "      <td>3899.600098</td>\n",
       "      <td>0</td>\n",
       "      <td>^JN0U.JO</td>\n",
       "      <td>3848.719971</td>\n",
       "      <td>0</td>\n",
       "    </tr>\n",
       "    <tr>\n",
       "      <th>2020-01-21 00:00:00+02:00</th>\n",
       "      <td>3887.169922</td>\n",
       "      <td>3889.679932</td>\n",
       "      <td>3809.669922</td>\n",
       "      <td>3848.719971</td>\n",
       "      <td>0</td>\n",
       "      <td>^JN0U.JO</td>\n",
       "      <td>3882.530029</td>\n",
       "      <td>1</td>\n",
       "    </tr>\n",
       "    <tr>\n",
       "      <th>2020-01-22 00:00:00+02:00</th>\n",
       "      <td>3860.850098</td>\n",
       "      <td>3888.550049</td>\n",
       "      <td>3848.429932</td>\n",
       "      <td>3882.530029</td>\n",
       "      <td>0</td>\n",
       "      <td>^JN0U.JO</td>\n",
       "      <td>3793.979980</td>\n",
       "      <td>0</td>\n",
       "    </tr>\n",
       "    <tr>\n",
       "      <th>2020-01-23 00:00:00+02:00</th>\n",
       "      <td>3881.260010</td>\n",
       "      <td>3881.260010</td>\n",
       "      <td>3789.699951</td>\n",
       "      <td>3793.979980</td>\n",
       "      <td>0</td>\n",
       "      <td>^JN0U.JO</td>\n",
       "      <td>3816.750000</td>\n",
       "      <td>1</td>\n",
       "    </tr>\n",
       "    <tr>\n",
       "      <th>2020-01-24 00:00:00+02:00</th>\n",
       "      <td>3803.250000</td>\n",
       "      <td>3853.010010</td>\n",
       "      <td>3803.250000</td>\n",
       "      <td>3816.750000</td>\n",
       "      <td>0</td>\n",
       "      <td>^JN0U.JO</td>\n",
       "      <td>NaN</td>\n",
       "      <td>0</td>\n",
       "    </tr>\n",
       "  </tbody>\n",
       "</table>\n",
       "<p>583 rows × 8 columns</p>\n",
       "</div>"
      ],
      "text/plain": [
       "                                  Open         High          Low        Close  \\\n",
       "Date                                                                            \n",
       "2017-09-26 00:00:00+02:00  4008.949951  4012.500000  3911.449951  3916.979980   \n",
       "2017-09-27 00:00:00+02:00  3915.199951  3926.850098  3877.590088  3885.090088   \n",
       "2017-09-28 00:00:00+02:00  3856.570068  3896.889893  3839.110107  3879.229980   \n",
       "2017-09-29 00:00:00+02:00  3893.760010  3952.479980  3884.939941  3930.870117   \n",
       "2017-10-02 00:00:00+02:00  3914.199951  3938.600098  3907.280029  3907.280029   \n",
       "...                                ...          ...          ...          ...   \n",
       "2020-01-20 00:00:00+02:00  3923.830078  3933.620117  3889.239990  3899.600098   \n",
       "2020-01-21 00:00:00+02:00  3887.169922  3889.679932  3809.669922  3848.719971   \n",
       "2020-01-22 00:00:00+02:00  3860.850098  3888.550049  3848.429932  3882.530029   \n",
       "2020-01-23 00:00:00+02:00  3881.260010  3881.260010  3789.699951  3793.979980   \n",
       "2020-01-24 00:00:00+02:00  3803.250000  3853.010010  3803.250000  3816.750000   \n",
       "\n",
       "                           Volume    ticker     Tomorrow  Target  \n",
       "Date                                                              \n",
       "2017-09-26 00:00:00+02:00       0  ^JN0U.JO  3885.090088       0  \n",
       "2017-09-27 00:00:00+02:00       0  ^JN0U.JO  3879.229980       0  \n",
       "2017-09-28 00:00:00+02:00       0  ^JN0U.JO  3930.870117       1  \n",
       "2017-09-29 00:00:00+02:00       0  ^JN0U.JO  3907.280029       0  \n",
       "2017-10-02 00:00:00+02:00       0  ^JN0U.JO  3939.860107       1  \n",
       "...                           ...       ...          ...     ...  \n",
       "2020-01-20 00:00:00+02:00       0  ^JN0U.JO  3848.719971       0  \n",
       "2020-01-21 00:00:00+02:00       0  ^JN0U.JO  3882.530029       1  \n",
       "2020-01-22 00:00:00+02:00       0  ^JN0U.JO  3793.979980       0  \n",
       "2020-01-23 00:00:00+02:00       0  ^JN0U.JO  3816.750000       1  \n",
       "2020-01-24 00:00:00+02:00       0  ^JN0U.JO          NaN       0  \n",
       "\n",
       "[583 rows x 8 columns]"
      ]
     },
     "execution_count": 179,
     "metadata": {},
     "output_type": "execute_result"
    }
   ],
   "source": [
    "tickerDf1[\"Target\"] = (tickerDf1[\"Tomorrow\"] > tickerDf1[\"Close\"]).astype(int)\n",
    "tickerDf1"
   ]
  },
  {
   "cell_type": "code",
   "execution_count": 180,
   "metadata": {},
   "outputs": [],
   "source": [
    "tickerDf1 = tickerDf1.loc[\"1991-01-01\":].copy()"
   ]
  },
  {
   "cell_type": "code",
   "execution_count": 181,
   "metadata": {},
   "outputs": [
    {
     "data": {
      "text/html": [
       "<style>#sk-container-id-7 {color: black;background-color: white;}#sk-container-id-7 pre{padding: 0;}#sk-container-id-7 div.sk-toggleable {background-color: white;}#sk-container-id-7 label.sk-toggleable__label {cursor: pointer;display: block;width: 100%;margin-bottom: 0;padding: 0.3em;box-sizing: border-box;text-align: center;}#sk-container-id-7 label.sk-toggleable__label-arrow:before {content: \"▸\";float: left;margin-right: 0.25em;color: #696969;}#sk-container-id-7 label.sk-toggleable__label-arrow:hover:before {color: black;}#sk-container-id-7 div.sk-estimator:hover label.sk-toggleable__label-arrow:before {color: black;}#sk-container-id-7 div.sk-toggleable__content {max-height: 0;max-width: 0;overflow: hidden;text-align: left;background-color: #f0f8ff;}#sk-container-id-7 div.sk-toggleable__content pre {margin: 0.2em;color: black;border-radius: 0.25em;background-color: #f0f8ff;}#sk-container-id-7 input.sk-toggleable__control:checked~div.sk-toggleable__content {max-height: 200px;max-width: 100%;overflow: auto;}#sk-container-id-7 input.sk-toggleable__control:checked~label.sk-toggleable__label-arrow:before {content: \"▾\";}#sk-container-id-7 div.sk-estimator input.sk-toggleable__control:checked~label.sk-toggleable__label {background-color: #d4ebff;}#sk-container-id-7 div.sk-label input.sk-toggleable__control:checked~label.sk-toggleable__label {background-color: #d4ebff;}#sk-container-id-7 input.sk-hidden--visually {border: 0;clip: rect(1px 1px 1px 1px);clip: rect(1px, 1px, 1px, 1px);height: 1px;margin: -1px;overflow: hidden;padding: 0;position: absolute;width: 1px;}#sk-container-id-7 div.sk-estimator {font-family: monospace;background-color: #f0f8ff;border: 1px dotted black;border-radius: 0.25em;box-sizing: border-box;margin-bottom: 0.5em;}#sk-container-id-7 div.sk-estimator:hover {background-color: #d4ebff;}#sk-container-id-7 div.sk-parallel-item::after {content: \"\";width: 100%;border-bottom: 1px solid gray;flex-grow: 1;}#sk-container-id-7 div.sk-label:hover label.sk-toggleable__label {background-color: #d4ebff;}#sk-container-id-7 div.sk-serial::before {content: \"\";position: absolute;border-left: 1px solid gray;box-sizing: border-box;top: 0;bottom: 0;left: 50%;z-index: 0;}#sk-container-id-7 div.sk-serial {display: flex;flex-direction: column;align-items: center;background-color: white;padding-right: 0.2em;padding-left: 0.2em;position: relative;}#sk-container-id-7 div.sk-item {position: relative;z-index: 1;}#sk-container-id-7 div.sk-parallel {display: flex;align-items: stretch;justify-content: center;background-color: white;position: relative;}#sk-container-id-7 div.sk-item::before, #sk-container-id-7 div.sk-parallel-item::before {content: \"\";position: absolute;border-left: 1px solid gray;box-sizing: border-box;top: 0;bottom: 0;left: 50%;z-index: -1;}#sk-container-id-7 div.sk-parallel-item {display: flex;flex-direction: column;z-index: 1;position: relative;background-color: white;}#sk-container-id-7 div.sk-parallel-item:first-child::after {align-self: flex-end;width: 50%;}#sk-container-id-7 div.sk-parallel-item:last-child::after {align-self: flex-start;width: 50%;}#sk-container-id-7 div.sk-parallel-item:only-child::after {width: 0;}#sk-container-id-7 div.sk-dashed-wrapped {border: 1px dashed gray;margin: 0 0.4em 0.5em 0.4em;box-sizing: border-box;padding-bottom: 0.4em;background-color: white;}#sk-container-id-7 div.sk-label label {font-family: monospace;font-weight: bold;display: inline-block;line-height: 1.2em;}#sk-container-id-7 div.sk-label-container {text-align: center;}#sk-container-id-7 div.sk-container {/* jupyter's `normalize.less` sets `[hidden] { display: none; }` but bootstrap.min.css set `[hidden] { display: none !important; }` so we also need the `!important` here to be able to override the default hidden behavior on the sphinx rendered scikit-learn.org. See: https://github.com/scikit-learn/scikit-learn/issues/21755 */display: inline-block !important;position: relative;}#sk-container-id-7 div.sk-text-repr-fallback {display: none;}</style><div id=\"sk-container-id-7\" class=\"sk-top-container\"><div class=\"sk-text-repr-fallback\"><pre>RandomForestClassifier(min_samples_split=100, random_state=1)</pre><b>In a Jupyter environment, please rerun this cell to show the HTML representation or trust the notebook. <br />On GitHub, the HTML representation is unable to render, please try loading this page with nbviewer.org.</b></div><div class=\"sk-container\" hidden><div class=\"sk-item\"><div class=\"sk-estimator sk-toggleable\"><input class=\"sk-toggleable__control sk-hidden--visually\" id=\"sk-estimator-id-7\" type=\"checkbox\" checked><label for=\"sk-estimator-id-7\" class=\"sk-toggleable__label sk-toggleable__label-arrow\">RandomForestClassifier</label><div class=\"sk-toggleable__content\"><pre>RandomForestClassifier(min_samples_split=100, random_state=1)</pre></div></div></div></div></div>"
      ],
      "text/plain": [
       "RandomForestClassifier(min_samples_split=100, random_state=1)"
      ]
     },
     "execution_count": 181,
     "metadata": {},
     "output_type": "execute_result"
    }
   ],
   "source": [
    "from sklearn.ensemble import RandomForestClassifier\n",
    "import pandas as pd\n",
    "model = RandomForestClassifier(n_estimators=100, max_depth=10, random_state=1)\n",
    "\n",
    "train = tickerDf1.iloc[:-100]\n",
    "test = tickerDf1.iloc[-100:]\n",
    "\n",
    "predictors = [\"Close\", \"Volume\", \"Open\", \"High\", \"Low\"]\n",
    "model.fit(train[predictors], train[\"Target\"])\n",
    "\n",
    "RandomForestClassifier(min_samples_split=100, random_state=1)\n"
   ]
  },
  {
   "cell_type": "code",
   "execution_count": 182,
   "metadata": {},
   "outputs": [],
   "source": [
    "from sklearn.metrics import precision_score\n",
    "\n",
    "preds = model.predict(test[predictors])"
   ]
  },
  {
   "cell_type": "code",
   "execution_count": 183,
   "metadata": {},
   "outputs": [],
   "source": [
    "import pandas as pd\n",
    "preds = pd.Series(preds, index=test.index)"
   ]
  },
  {
   "cell_type": "code",
   "execution_count": 184,
   "metadata": {},
   "outputs": [
    {
     "data": {
      "text/plain": [
       "0.5849056603773585"
      ]
     },
     "execution_count": 184,
     "metadata": {},
     "output_type": "execute_result"
    }
   ],
   "source": [
    "precision_score(test[\"Target\"], preds) "
   ]
  },
  {
   "cell_type": "code",
   "execution_count": 185,
   "metadata": {},
   "outputs": [],
   "source": [
    "combined = pd.concat([test[\"Target\"], preds], axis=1)\n"
   ]
  },
  {
   "cell_type": "code",
   "execution_count": 153,
   "metadata": {},
   "outputs": [],
   "source": [
    "#combined.plot()"
   ]
  },
  {
   "cell_type": "code",
   "execution_count": 186,
   "metadata": {},
   "outputs": [],
   "source": [
    "def predict(train, test, predictors, model):\n",
    "    model.fit(train[predictors], train[\"Target\"])\n",
    "    preds = model.predict(test[predictors])\n",
    "    preds = pd.Series(preds, index=test.index, name=\"Predictions\")\n",
    "    combined = pd.concat([test[\"Target\"], preds], axis=1)\n",
    "    return combined"
   ]
  },
  {
   "cell_type": "code",
   "execution_count": 188,
   "metadata": {},
   "outputs": [],
   "source": [
    "def backtest(data, model, predictors, start=2500, step=250):\n",
    "    all_predictions = []\n",
    "\n",
    "    for i in range(start, data.shape[0], step):\n",
    "        train = data.iloc[0:i].copy()\n",
    "        test = data.iloc[i:(i+step)].copy()\n",
    "        predictions = predict(train, test, predictors, model)\n",
    "        all_predictions.append(predictions)\n",
    "    \n",
    "    return pd.concat(all_predictions)"
   ]
  },
  {
   "cell_type": "code",
   "execution_count": 192,
   "metadata": {},
   "outputs": [
    {
     "data": {
      "text/html": [
       "<div>\n",
       "<style scoped>\n",
       "    .dataframe tbody tr th:only-of-type {\n",
       "        vertical-align: middle;\n",
       "    }\n",
       "\n",
       "    .dataframe tbody tr th {\n",
       "        vertical-align: top;\n",
       "    }\n",
       "\n",
       "    .dataframe thead th {\n",
       "        text-align: right;\n",
       "    }\n",
       "</style>\n",
       "<table border=\"1\" class=\"dataframe\">\n",
       "  <thead>\n",
       "    <tr style=\"text-align: right;\">\n",
       "      <th></th>\n",
       "      <th>Open</th>\n",
       "      <th>High</th>\n",
       "      <th>Low</th>\n",
       "      <th>Close</th>\n",
       "      <th>Volume</th>\n",
       "      <th>ticker</th>\n",
       "      <th>Tomorrow</th>\n",
       "      <th>Target</th>\n",
       "    </tr>\n",
       "    <tr>\n",
       "      <th>Date</th>\n",
       "      <th></th>\n",
       "      <th></th>\n",
       "      <th></th>\n",
       "      <th></th>\n",
       "      <th></th>\n",
       "      <th></th>\n",
       "      <th></th>\n",
       "      <th></th>\n",
       "    </tr>\n",
       "  </thead>\n",
       "  <tbody>\n",
       "    <tr>\n",
       "      <th>2017-09-26 00:00:00+02:00</th>\n",
       "      <td>4008.949951</td>\n",
       "      <td>4012.500000</td>\n",
       "      <td>3911.449951</td>\n",
       "      <td>3916.979980</td>\n",
       "      <td>0</td>\n",
       "      <td>^JN0U.JO</td>\n",
       "      <td>3885.090088</td>\n",
       "      <td>0</td>\n",
       "    </tr>\n",
       "    <tr>\n",
       "      <th>2017-09-27 00:00:00+02:00</th>\n",
       "      <td>3915.199951</td>\n",
       "      <td>3926.850098</td>\n",
       "      <td>3877.590088</td>\n",
       "      <td>3885.090088</td>\n",
       "      <td>0</td>\n",
       "      <td>^JN0U.JO</td>\n",
       "      <td>3879.229980</td>\n",
       "      <td>0</td>\n",
       "    </tr>\n",
       "    <tr>\n",
       "      <th>2017-09-28 00:00:00+02:00</th>\n",
       "      <td>3856.570068</td>\n",
       "      <td>3896.889893</td>\n",
       "      <td>3839.110107</td>\n",
       "      <td>3879.229980</td>\n",
       "      <td>0</td>\n",
       "      <td>^JN0U.JO</td>\n",
       "      <td>3930.870117</td>\n",
       "      <td>1</td>\n",
       "    </tr>\n",
       "    <tr>\n",
       "      <th>2017-09-29 00:00:00+02:00</th>\n",
       "      <td>3893.760010</td>\n",
       "      <td>3952.479980</td>\n",
       "      <td>3884.939941</td>\n",
       "      <td>3930.870117</td>\n",
       "      <td>0</td>\n",
       "      <td>^JN0U.JO</td>\n",
       "      <td>3907.280029</td>\n",
       "      <td>0</td>\n",
       "    </tr>\n",
       "    <tr>\n",
       "      <th>2017-10-02 00:00:00+02:00</th>\n",
       "      <td>3914.199951</td>\n",
       "      <td>3938.600098</td>\n",
       "      <td>3907.280029</td>\n",
       "      <td>3907.280029</td>\n",
       "      <td>0</td>\n",
       "      <td>^JN0U.JO</td>\n",
       "      <td>3939.860107</td>\n",
       "      <td>1</td>\n",
       "    </tr>\n",
       "    <tr>\n",
       "      <th>...</th>\n",
       "      <td>...</td>\n",
       "      <td>...</td>\n",
       "      <td>...</td>\n",
       "      <td>...</td>\n",
       "      <td>...</td>\n",
       "      <td>...</td>\n",
       "      <td>...</td>\n",
       "      <td>...</td>\n",
       "    </tr>\n",
       "    <tr>\n",
       "      <th>2020-01-20 00:00:00+02:00</th>\n",
       "      <td>3923.830078</td>\n",
       "      <td>3933.620117</td>\n",
       "      <td>3889.239990</td>\n",
       "      <td>3899.600098</td>\n",
       "      <td>0</td>\n",
       "      <td>^JN0U.JO</td>\n",
       "      <td>3848.719971</td>\n",
       "      <td>0</td>\n",
       "    </tr>\n",
       "    <tr>\n",
       "      <th>2020-01-21 00:00:00+02:00</th>\n",
       "      <td>3887.169922</td>\n",
       "      <td>3889.679932</td>\n",
       "      <td>3809.669922</td>\n",
       "      <td>3848.719971</td>\n",
       "      <td>0</td>\n",
       "      <td>^JN0U.JO</td>\n",
       "      <td>3882.530029</td>\n",
       "      <td>1</td>\n",
       "    </tr>\n",
       "    <tr>\n",
       "      <th>2020-01-22 00:00:00+02:00</th>\n",
       "      <td>3860.850098</td>\n",
       "      <td>3888.550049</td>\n",
       "      <td>3848.429932</td>\n",
       "      <td>3882.530029</td>\n",
       "      <td>0</td>\n",
       "      <td>^JN0U.JO</td>\n",
       "      <td>3793.979980</td>\n",
       "      <td>0</td>\n",
       "    </tr>\n",
       "    <tr>\n",
       "      <th>2020-01-23 00:00:00+02:00</th>\n",
       "      <td>3881.260010</td>\n",
       "      <td>3881.260010</td>\n",
       "      <td>3789.699951</td>\n",
       "      <td>3793.979980</td>\n",
       "      <td>0</td>\n",
       "      <td>^JN0U.JO</td>\n",
       "      <td>3816.750000</td>\n",
       "      <td>1</td>\n",
       "    </tr>\n",
       "    <tr>\n",
       "      <th>2020-01-24 00:00:00+02:00</th>\n",
       "      <td>3803.250000</td>\n",
       "      <td>3853.010010</td>\n",
       "      <td>3803.250000</td>\n",
       "      <td>3816.750000</td>\n",
       "      <td>0</td>\n",
       "      <td>^JN0U.JO</td>\n",
       "      <td>NaN</td>\n",
       "      <td>0</td>\n",
       "    </tr>\n",
       "  </tbody>\n",
       "</table>\n",
       "<p>583 rows × 8 columns</p>\n",
       "</div>"
      ],
      "text/plain": [
       "                                  Open         High          Low        Close  \\\n",
       "Date                                                                            \n",
       "2017-09-26 00:00:00+02:00  4008.949951  4012.500000  3911.449951  3916.979980   \n",
       "2017-09-27 00:00:00+02:00  3915.199951  3926.850098  3877.590088  3885.090088   \n",
       "2017-09-28 00:00:00+02:00  3856.570068  3896.889893  3839.110107  3879.229980   \n",
       "2017-09-29 00:00:00+02:00  3893.760010  3952.479980  3884.939941  3930.870117   \n",
       "2017-10-02 00:00:00+02:00  3914.199951  3938.600098  3907.280029  3907.280029   \n",
       "...                                ...          ...          ...          ...   \n",
       "2020-01-20 00:00:00+02:00  3923.830078  3933.620117  3889.239990  3899.600098   \n",
       "2020-01-21 00:00:00+02:00  3887.169922  3889.679932  3809.669922  3848.719971   \n",
       "2020-01-22 00:00:00+02:00  3860.850098  3888.550049  3848.429932  3882.530029   \n",
       "2020-01-23 00:00:00+02:00  3881.260010  3881.260010  3789.699951  3793.979980   \n",
       "2020-01-24 00:00:00+02:00  3803.250000  3853.010010  3803.250000  3816.750000   \n",
       "\n",
       "                           Volume    ticker     Tomorrow  Target  \n",
       "Date                                                              \n",
       "2017-09-26 00:00:00+02:00       0  ^JN0U.JO  3885.090088       0  \n",
       "2017-09-27 00:00:00+02:00       0  ^JN0U.JO  3879.229980       0  \n",
       "2017-09-28 00:00:00+02:00       0  ^JN0U.JO  3930.870117       1  \n",
       "2017-09-29 00:00:00+02:00       0  ^JN0U.JO  3907.280029       0  \n",
       "2017-10-02 00:00:00+02:00       0  ^JN0U.JO  3939.860107       1  \n",
       "...                           ...       ...          ...     ...  \n",
       "2020-01-20 00:00:00+02:00       0  ^JN0U.JO  3848.719971       0  \n",
       "2020-01-21 00:00:00+02:00       0  ^JN0U.JO  3882.530029       1  \n",
       "2020-01-22 00:00:00+02:00       0  ^JN0U.JO  3793.979980       0  \n",
       "2020-01-23 00:00:00+02:00       0  ^JN0U.JO  3816.750000       1  \n",
       "2020-01-24 00:00:00+02:00       0  ^JN0U.JO          NaN       0  \n",
       "\n",
       "[583 rows x 8 columns]"
      ]
     },
     "execution_count": 192,
     "metadata": {},
     "output_type": "execute_result"
    }
   ],
   "source": [
    "tickerDf1"
   ]
  },
  {
   "cell_type": "code",
   "execution_count": null,
   "metadata": {},
   "outputs": [],
   "source": [
    "predictions = backtest(tickerDf1, model, new_predictors)"
   ]
  },
  {
   "cell_type": "code",
   "execution_count": null,
   "metadata": {},
   "outputs": [
    {
     "data": {
      "text/plain": [
       "1    2771\n",
       "0    2767\n",
       "Name: Predictions, dtype: int64"
      ]
     },
     "execution_count": 131,
     "metadata": {},
     "output_type": "execute_result"
    }
   ],
   "source": [
    "predictions[\"Predictions\"].value_counts()"
   ]
  },
  {
   "cell_type": "code",
   "execution_count": 196,
   "metadata": {},
   "outputs": [
    {
     "name": "stderr",
     "output_type": "stream",
     "text": [
      "C:\\Users\\GARRE\\AppData\\Local\\Temp\\ipykernel_47512\\2796134674.py:6: FutureWarning: Dropping of nuisance columns in rolling operations is deprecated; in a future version this will raise TypeError. Select only valid columns before calling the operation. Dropped columns were Index(['ticker'], dtype='object')\n",
      "  rolling_averages = tickerDf1.rolling(horizon).mean()\n",
      "C:\\Users\\GARRE\\AppData\\Local\\Temp\\ipykernel_47512\\2796134674.py:12: FutureWarning: Dropping of nuisance columns in rolling operations is deprecated; in a future version this will raise TypeError. Select only valid columns before calling the operation. Dropped columns were Index(['ticker'], dtype='object')\n",
      "  tickerDf1[trend_column] = tickerDf1.shift(1).rolling(horizon).sum()[\"Target\"]\n"
     ]
    }
   ],
   "source": [
    "#mean of close price in last two days, last trade of the week, past three months, past 4 years\n",
    "horizons = [2, 5, 60, 250, 1000]\n",
    "new_predictors = []\n",
    "\n",
    "for horizon in horizons:\n",
    "    rolling_averages = tickerDf1.rolling(horizon).mean()\n",
    "\n",
    "    ratio_column = f\"Close_Ratio_{horizon}\"\n",
    "    tickerDf1[ratio_column] = tickerDf1[\"Close\"] / rolling_averages[\"Close\"]\n",
    "\n",
    "    trend_column = f\"Trend_{horizon}\"\n",
    "    tickerDf1[trend_column] = tickerDf1.shift(1).rolling(horizon).sum()[\"Target\"]\n",
    "\n",
    "    new_predictors += [ratio_column, trend_column]"
   ]
  },
  {
   "cell_type": "code",
   "execution_count": 197,
   "metadata": {},
   "outputs": [
    {
     "data": {
      "text/plain": [
       "0.5597826086956522"
      ]
     },
     "execution_count": 197,
     "metadata": {},
     "output_type": "execute_result"
    }
   ],
   "source": [
    "precision_score(predictions[\"Target\"], predictions[\"Predictions\"])"
   ]
  },
  {
   "cell_type": "code",
   "execution_count": 198,
   "metadata": {},
   "outputs": [
    {
     "data": {
      "text/plain": [
       "1    0.544413\n",
       "0    0.455587\n",
       "Name: Target, dtype: float64"
      ]
     },
     "execution_count": 198,
     "metadata": {},
     "output_type": "execute_result"
    }
   ],
   "source": [
    "predictions[\"Target\"].value_counts() / predictions.shape[0]"
   ]
  },
  {
   "cell_type": "code",
   "execution_count": null,
   "metadata": {},
   "outputs": [],
   "source": []
  },
  {
   "cell_type": "code",
   "execution_count": 199,
   "metadata": {},
   "outputs": [],
   "source": [
    "tickerDf1 = tickerDf1.dropna()"
   ]
  },
  {
   "cell_type": "code",
   "execution_count": 200,
   "metadata": {},
   "outputs": [],
   "source": [
    "model = RandomForestClassifier(n_estimators=200, min_samples_split=50, random_state=1)\n"
   ]
  },
  {
   "cell_type": "code",
   "execution_count": 201,
   "metadata": {},
   "outputs": [],
   "source": [
    "def predict(train, test, predictors, model):\n",
    "    model.fit(train[predictors], train[\"Target\"])\n",
    "    preds = model.predict_proba(test[predictors])[:,1]\n",
    "    preds[preds>=0.6] = 1\n",
    "    preds[preds<0.6] = 0\n",
    "    preds = pd.Series(preds, index=test.index, name=\"Predictions\")\n",
    "    combined = pd.concat([test[\"Target\"], preds], axis=1)\n",
    "    return combined"
   ]
  },
  {
   "cell_type": "code",
   "execution_count": 202,
   "metadata": {},
   "outputs": [
    {
     "ename": "ValueError",
     "evalue": "No objects to concatenate",
     "output_type": "error",
     "traceback": [
      "\u001b[1;31m---------------------------------------------------------------------------\u001b[0m",
      "\u001b[1;31mValueError\u001b[0m                                Traceback (most recent call last)",
      "Cell \u001b[1;32mIn [202], line 1\u001b[0m\n\u001b[1;32m----> 1\u001b[0m predictions \u001b[39m=\u001b[39m backtest(tickerDf1, model, new_predictors)\n",
      "Cell \u001b[1;32mIn [188], line 10\u001b[0m, in \u001b[0;36mbacktest\u001b[1;34m(data, model, predictors, start, step)\u001b[0m\n\u001b[0;32m      7\u001b[0m     predictions \u001b[39m=\u001b[39m predict(train, test, predictors, model)\n\u001b[0;32m      8\u001b[0m     all_predictions\u001b[39m.\u001b[39mappend(predictions)\n\u001b[1;32m---> 10\u001b[0m \u001b[39mreturn\u001b[39;00m pd\u001b[39m.\u001b[39;49mconcat(all_predictions)\n",
      "File \u001b[1;32md:\\stockPredictions\\py_env\\lib\\site-packages\\pandas\\util\\_decorators.py:331\u001b[0m, in \u001b[0;36mdeprecate_nonkeyword_arguments.<locals>.decorate.<locals>.wrapper\u001b[1;34m(*args, **kwargs)\u001b[0m\n\u001b[0;32m    325\u001b[0m \u001b[39mif\u001b[39;00m \u001b[39mlen\u001b[39m(args) \u001b[39m>\u001b[39m num_allow_args:\n\u001b[0;32m    326\u001b[0m     warnings\u001b[39m.\u001b[39mwarn(\n\u001b[0;32m    327\u001b[0m         msg\u001b[39m.\u001b[39mformat(arguments\u001b[39m=\u001b[39m_format_argument_list(allow_args)),\n\u001b[0;32m    328\u001b[0m         \u001b[39mFutureWarning\u001b[39;00m,\n\u001b[0;32m    329\u001b[0m         stacklevel\u001b[39m=\u001b[39mfind_stack_level(),\n\u001b[0;32m    330\u001b[0m     )\n\u001b[1;32m--> 331\u001b[0m \u001b[39mreturn\u001b[39;00m func(\u001b[39m*\u001b[39margs, \u001b[39m*\u001b[39m\u001b[39m*\u001b[39mkwargs)\n",
      "File \u001b[1;32md:\\stockPredictions\\py_env\\lib\\site-packages\\pandas\\core\\reshape\\concat.py:368\u001b[0m, in \u001b[0;36mconcat\u001b[1;34m(objs, axis, join, ignore_index, keys, levels, names, verify_integrity, sort, copy)\u001b[0m\n\u001b[0;32m    146\u001b[0m \u001b[39m@deprecate_nonkeyword_arguments\u001b[39m(version\u001b[39m=\u001b[39m\u001b[39mNone\u001b[39;00m, allowed_args\u001b[39m=\u001b[39m[\u001b[39m\"\u001b[39m\u001b[39mobjs\u001b[39m\u001b[39m\"\u001b[39m])\n\u001b[0;32m    147\u001b[0m \u001b[39mdef\u001b[39;00m \u001b[39mconcat\u001b[39m(\n\u001b[0;32m    148\u001b[0m     objs: Iterable[NDFrame] \u001b[39m|\u001b[39m Mapping[HashableT, NDFrame],\n\u001b[1;32m   (...)\u001b[0m\n\u001b[0;32m    157\u001b[0m     copy: \u001b[39mbool\u001b[39m \u001b[39m=\u001b[39m \u001b[39mTrue\u001b[39;00m,\n\u001b[0;32m    158\u001b[0m ) \u001b[39m-\u001b[39m\u001b[39m>\u001b[39m DataFrame \u001b[39m|\u001b[39m Series:\n\u001b[0;32m    159\u001b[0m     \u001b[39m\"\"\"\u001b[39;00m\n\u001b[0;32m    160\u001b[0m \u001b[39m    Concatenate pandas objects along a particular axis.\u001b[39;00m\n\u001b[0;32m    161\u001b[0m \n\u001b[1;32m   (...)\u001b[0m\n\u001b[0;32m    366\u001b[0m \u001b[39m    1   3   4\u001b[39;00m\n\u001b[0;32m    367\u001b[0m \u001b[39m    \"\"\"\u001b[39;00m\n\u001b[1;32m--> 368\u001b[0m     op \u001b[39m=\u001b[39m _Concatenator(\n\u001b[0;32m    369\u001b[0m         objs,\n\u001b[0;32m    370\u001b[0m         axis\u001b[39m=\u001b[39;49maxis,\n\u001b[0;32m    371\u001b[0m         ignore_index\u001b[39m=\u001b[39;49mignore_index,\n\u001b[0;32m    372\u001b[0m         join\u001b[39m=\u001b[39;49mjoin,\n\u001b[0;32m    373\u001b[0m         keys\u001b[39m=\u001b[39;49mkeys,\n\u001b[0;32m    374\u001b[0m         levels\u001b[39m=\u001b[39;49mlevels,\n\u001b[0;32m    375\u001b[0m         names\u001b[39m=\u001b[39;49mnames,\n\u001b[0;32m    376\u001b[0m         verify_integrity\u001b[39m=\u001b[39;49mverify_integrity,\n\u001b[0;32m    377\u001b[0m         copy\u001b[39m=\u001b[39;49mcopy,\n\u001b[0;32m    378\u001b[0m         sort\u001b[39m=\u001b[39;49msort,\n\u001b[0;32m    379\u001b[0m     )\n\u001b[0;32m    381\u001b[0m     \u001b[39mreturn\u001b[39;00m op\u001b[39m.\u001b[39mget_result()\n",
      "File \u001b[1;32md:\\stockPredictions\\py_env\\lib\\site-packages\\pandas\\core\\reshape\\concat.py:425\u001b[0m, in \u001b[0;36m_Concatenator.__init__\u001b[1;34m(self, objs, axis, join, keys, levels, names, ignore_index, verify_integrity, copy, sort)\u001b[0m\n\u001b[0;32m    422\u001b[0m     objs \u001b[39m=\u001b[39m \u001b[39mlist\u001b[39m(objs)\n\u001b[0;32m    424\u001b[0m \u001b[39mif\u001b[39;00m \u001b[39mlen\u001b[39m(objs) \u001b[39m==\u001b[39m \u001b[39m0\u001b[39m:\n\u001b[1;32m--> 425\u001b[0m     \u001b[39mraise\u001b[39;00m \u001b[39mValueError\u001b[39;00m(\u001b[39m\"\u001b[39m\u001b[39mNo objects to concatenate\u001b[39m\u001b[39m\"\u001b[39m)\n\u001b[0;32m    427\u001b[0m \u001b[39mif\u001b[39;00m keys \u001b[39mis\u001b[39;00m \u001b[39mNone\u001b[39;00m:\n\u001b[0;32m    428\u001b[0m     objs \u001b[39m=\u001b[39m \u001b[39mlist\u001b[39m(com\u001b[39m.\u001b[39mnot_none(\u001b[39m*\u001b[39mobjs))\n",
      "\u001b[1;31mValueError\u001b[0m: No objects to concatenate"
     ]
    }
   ],
   "source": [
    "predictions = backtest(tickerDf1, model, new_predictors)"
   ]
  },
  {
   "cell_type": "code",
   "execution_count": null,
   "metadata": {},
   "outputs": [
    {
     "data": {
      "text/plain": [
       "0.0    3617\n",
       "1.0     920\n",
       "Name: Predictions, dtype: int64"
      ]
     },
     "execution_count": 139,
     "metadata": {},
     "output_type": "execute_result"
    }
   ],
   "source": [
    "predictions[\"Predictions\"].value_counts()"
   ]
  },
  {
   "cell_type": "code",
   "execution_count": null,
   "metadata": {},
   "outputs": [
    {
     "data": {
      "text/plain": [
       "0.5597826086956522"
      ]
     },
     "execution_count": 140,
     "metadata": {},
     "output_type": "execute_result"
    }
   ],
   "source": [
    "precision_score(predictions[\"Target\"], predictions[\"Predictions\"])"
   ]
  }
 ],
 "metadata": {
  "kernelspec": {
   "display_name": "Python 3.10.4 ('py_env': venv)",
   "language": "python",
   "name": "python3"
  },
  "language_info": {
   "codemirror_mode": {
    "name": "ipython",
    "version": 3
   },
   "file_extension": ".py",
   "mimetype": "text/x-python",
   "name": "python",
   "nbconvert_exporter": "python",
   "pygments_lexer": "ipython3",
   "version": "3.10.4"
  },
  "orig_nbformat": 4,
  "vscode": {
   "interpreter": {
    "hash": "b74fc83a20f5a87dc6bab93ae9d14a2e5c42cf9c7c0e32b39a602b9645a7c5d6"
   }
  }
 },
 "nbformat": 4,
 "nbformat_minor": 2
}
